{
  "nbformat": 4,
  "nbformat_minor": 0,
  "metadata": {
    "colab": {
      "provenance": [],
      "authorship_tag": "ABX9TyOLyaokLXBJ8HOxjOa3zrgg",
      "include_colab_link": true
    },
    "kernelspec": {
      "name": "python3",
      "display_name": "Python 3"
    },
    "language_info": {
      "name": "python"
    }
  },
  "cells": [
    {
      "cell_type": "markdown",
      "metadata": {
        "id": "view-in-github",
        "colab_type": "text"
      },
      "source": [
        "<a href=\"https://colab.research.google.com/github/isra-33/ChineseGP25/blob/main/ChineseGP25.ipynb\" target=\"_parent\"><img src=\"https://colab.research.google.com/assets/colab-badge.svg\" alt=\"Open In Colab\"/></a>"
      ]
    },
    {
      "cell_type": "code",
      "source": [
        "# Install necessary libraries\n",
        "!pip install pandas scikit-learn numpy matplotlib seaborn\n",
        "\n",
        "# Import libraries\n",
        "import pandas as pd\n",
        "import numpy as np\n",
        "from sklearn.model_selection import train_test_split\n",
        "from sklearn.metrics import mean_squared_error, mean_absolute_error\n",
        "from sklearn.preprocessing import LabelEncoder\n",
        "from sklearn.ensemble import RandomForestRegressor  # Import Random Forest\n",
        "import matplotlib.pyplot as plt\n",
        "import seaborn as sns"
      ],
      "metadata": {
        "colab": {
          "base_uri": "https://localhost:8080/"
        },
        "id": "ViWAXZ0bTDLt",
        "outputId": "88b5a658-c1f6-4280-caaf-79b98f1b13a3"
      },
      "execution_count": 82,
      "outputs": [
        {
          "output_type": "stream",
          "name": "stdout",
          "text": [
            "Requirement already satisfied: pandas in /usr/local/lib/python3.11/dist-packages (2.2.2)\n",
            "Requirement already satisfied: scikit-learn in /usr/local/lib/python3.11/dist-packages (1.6.1)\n",
            "Requirement already satisfied: numpy in /usr/local/lib/python3.11/dist-packages (2.0.2)\n",
            "Requirement already satisfied: matplotlib in /usr/local/lib/python3.11/dist-packages (3.10.0)\n",
            "Requirement already satisfied: seaborn in /usr/local/lib/python3.11/dist-packages (0.13.2)\n",
            "Requirement already satisfied: python-dateutil>=2.8.2 in /usr/local/lib/python3.11/dist-packages (from pandas) (2.8.2)\n",
            "Requirement already satisfied: pytz>=2020.1 in /usr/local/lib/python3.11/dist-packages (from pandas) (2025.1)\n",
            "Requirement already satisfied: tzdata>=2022.7 in /usr/local/lib/python3.11/dist-packages (from pandas) (2025.1)\n",
            "Requirement already satisfied: scipy>=1.6.0 in /usr/local/lib/python3.11/dist-packages (from scikit-learn) (1.14.1)\n",
            "Requirement already satisfied: joblib>=1.2.0 in /usr/local/lib/python3.11/dist-packages (from scikit-learn) (1.4.2)\n",
            "Requirement already satisfied: threadpoolctl>=3.1.0 in /usr/local/lib/python3.11/dist-packages (from scikit-learn) (3.6.0)\n",
            "Requirement already satisfied: contourpy>=1.0.1 in /usr/local/lib/python3.11/dist-packages (from matplotlib) (1.3.1)\n",
            "Requirement already satisfied: cycler>=0.10 in /usr/local/lib/python3.11/dist-packages (from matplotlib) (0.12.1)\n",
            "Requirement already satisfied: fonttools>=4.22.0 in /usr/local/lib/python3.11/dist-packages (from matplotlib) (4.56.0)\n",
            "Requirement already satisfied: kiwisolver>=1.3.1 in /usr/local/lib/python3.11/dist-packages (from matplotlib) (1.4.8)\n",
            "Requirement already satisfied: packaging>=20.0 in /usr/local/lib/python3.11/dist-packages (from matplotlib) (24.2)\n",
            "Requirement already satisfied: pillow>=8 in /usr/local/lib/python3.11/dist-packages (from matplotlib) (11.1.0)\n",
            "Requirement already satisfied: pyparsing>=2.3.1 in /usr/local/lib/python3.11/dist-packages (from matplotlib) (3.2.1)\n",
            "Requirement already satisfied: six>=1.5 in /usr/local/lib/python3.11/dist-packages (from python-dateutil>=2.8.2->pandas) (1.17.0)\n"
          ]
        }
      ]
    },
    {
      "cell_type": "code",
      "source": [],
      "metadata": {
        "id": "tfc4b4fKqfrT"
      },
      "execution_count": 82,
      "outputs": []
    },
    {
      "cell_type": "code",
      "source": [
        "# Create 2025 Chinese GP qualifying data\n",
        "china_2025_qualifying = pd.DataFrame({\n",
        "    'Position': range(1, 21),\n",
        "    'Driver': ['Oscar Piastri', 'George Russell', 'Lando Norris', 'Max Verstappen', 'Lewis Hamilton',\n",
        "              'Charles Leclerc', 'Isack Hadjar', 'Kimi Antonelli', 'Yuki Tsunoda', 'Alex Albon',\n",
        "              'Esteban Ocon', 'Nico Hulkenberg', 'Fernando Alonso', 'Lance Stroll', 'Carlos Sainz',\n",
        "              'Pierre Gasly', 'Oliver Bearman', 'Jack Doohan', 'Gabriel Bortoleto', 'Liam Lawson'],\n",
        "    'Team': ['McLaren F1 Team', 'Mercedes AMG Petronas F1 Team', 'McLaren F1 Team',\n",
        "             'Oracle Red Bull Racing', 'Scuderia Ferrari HP', 'Scuderia Ferrari HP',\n",
        "             'Visa Cash App Racing Bulls F1 Team', 'Mercedes AMG Petronas F1 Team',\n",
        "             'Visa Cash App Racing Bulls F1 Team', 'Atlassian Williams Racing',\n",
        "             'MoneyGram Haas F1 Team', 'Stake F1 Team Kick Sauber', 'Aston Martin Aramco F1 Team',\n",
        "             'Aston Martin Aramco F1 Team', 'Atlassian Williams Racing', 'BWT Alpine F1 Team',\n",
        "             'MoneyGram Haas F1 Team', 'BWT Alpine F1 Team', 'Stake F1 Team Kick Sauber',\n",
        "             'Oracle Red Bull Racing'],\n",
        "    'Q1': ['1m31.591s', '1m31.295s', '1m30.983s', '1m31.424s', '1m31.690s', '1m31.579s',\n",
        "           '1m31.162s', '1m31.676s', '1m31.238s', '1m31.503s', '1m31.876s', '1m31.921s',\n",
        "           '1m31.719s', '1m31.923s', '1m31.628s', '1m31.992s', '1m32.018s', '1m32.092s',\n",
        "           '1m32.141s', '1m32.174s'],\n",
        "    'Q2': ['1m31.200s', '1m31.307s', '1m30.787s', '1m31.234s', '1m31.501s', '1m31.450s',\n",
        "           '1m31.253s', '1m31.590s', '1m31.425s', '1m31.595s', '1m31.625s', '1m31.632s',\n",
        "           '1m31.688s', '1m31.773s', '1m31.840s', None, None, None, None, None],\n",
        "    'Q3': ['1m30.641s', '1m30.723s', '1m30.793s', '1m30.817s', '1m30.927s', '1m31.021s',\n",
        "           '1m31.079s', '1m31.103s', '1m31.638s', '1m31.706s', None, None, None, None,\n",
        "           None, None, None, None, None, None],\n",
        "    'Track': ['China'] * 20,\n",
        "    'Year': [2025] * 20\n",
        "})\n"
      ],
      "metadata": {
        "id": "0zr2TBxxqfvi"
      },
      "execution_count": 83,
      "outputs": []
    },
    {
      "cell_type": "code",
      "source": [
        "\n",
        "# Base URL for GitHub repository for previous data\n",
        "base_url = \"https://raw.githubusercontent.com/toUpperCase78/formula1-datasets/master/\"\n",
        "\n",
        "# Years to include\n",
        "years = [2024, 2025]\n",
        "\n",
        "# File names\n",
        "file_names = {\n",
        "    2024: {\n",
        "        \"qualifying\": \"Formula1_2024season_qualifyingResults.csv\",\n",
        "        \"race\": \"Formula1_2024season_raceResults.csv\"\n",
        "    },\n",
        "    2025: {\n",
        "        \"qualifying\": \"Formula1_2025Season_QualifyingResults.csv\",\n",
        "        \"race\": \"Formula1_2025Season_RaceResults.csv\"\n",
        "    }\n",
        "}\n",
        "\n",
        "# Function to load data\n",
        "def load_data(year, file_type):\n",
        "    file_name = file_names.get(year, {}).get(file_type)\n",
        "    if not file_name:\n",
        "        return None\n",
        "    url = f\"{base_url}{file_name}\"\n",
        "    try:\n",
        "        df = pd.read_csv(url)\n",
        "        df['Year'] = year\n",
        "        return df\n",
        "    except Exception as e:\n",
        "        print(f\"Error loading {year} {file_type}: {e}\")\n",
        "        return None\n",
        "\n",
        "# Load and concatenate data\n",
        "qualifying_dfs = [china_2025_qualifying]\n",
        "race_dfs = []\n",
        "\n",
        "for year in years:\n",
        "    qual_df = load_data(year, \"qualifying\")\n",
        "    race_df = load_data(year, \"race\")\n",
        "    if qual_df is not None:\n",
        "        qualifying_dfs.append(qual_df)\n",
        "    if race_df is not None:\n",
        "        race_dfs.append(race_df)\n",
        "\n",
        "qualifying_data = pd.concat(qualifying_dfs, ignore_index=True)\n",
        "race_data = pd.concat(race_dfs, ignore_index=True) if race_dfs else pd.DataFrame()\n",
        "\n",
        "# Merge data\n",
        "merged_data = pd.merge(\n",
        "    race_data,\n",
        "    qualifying_data[['Year', 'Track', 'Driver', 'Team', 'Position', 'Q3']],\n",
        "    left_on=['Year', 'Track', 'Driver', 'Team'],\n",
        "    right_on=['Year', 'Track', 'Driver', 'Team'],\n",
        "    how='left',\n",
        "    suffixes=('_race', '_qual')\n",
        ")\n",
        "\n",
        "merged_data = merged_data.rename(columns={'Position_race': 'Finish_Position', 'Position_qual': 'Qualifying_Position'})"
      ],
      "metadata": {
        "id": "LBzp187TqfxZ"
      },
      "execution_count": 84,
      "outputs": []
    },
    {
      "cell_type": "code",
      "source": [
        "# Handle missing values\n",
        "merged_data['Q3'] = merged_data['Q3'].fillna('N/A')\n",
        "non_numeric_values = ['Retired', 'NC', 'DNF', 'DNS', 'DSQ', 'DQ']\n",
        "merged_data['Finish_Position'] = merged_data['Finish_Position'].replace(non_numeric_values, np.nan)\n",
        "merged_data = merged_data.dropna(subset=['Finish_Position'])\n",
        "merged_data['Finish_Position'] = merged_data['Finish_Position'].astype(int)\n",
        "merged_data['Qualifying_Position'] = pd.to_numeric(merged_data['Qualifying_Position'], errors='coerce').fillna(25)\n",
        "merged_data['Starting Grid'] = pd.to_numeric(merged_data['Starting Grid'], errors='coerce').fillna(25)\n",
        "\n",
        "# Encode categorical variables with handling for new labels\n",
        "le_driver = LabelEncoder()\n",
        "le_team = LabelEncoder()\n",
        "le_track = LabelEncoder()\n",
        "\n",
        "# Fit encoders on all available data (including 2025 qualifying)\n",
        "all_drivers = pd.concat([merged_data['Driver'], china_2025_qualifying['Driver']]).unique()\n",
        "all_teams = pd.concat([merged_data['Team'], china_2025_qualifying['Team']]).unique()\n",
        "all_tracks = pd.concat([merged_data['Track'], china_2025_qualifying['Track']]).unique()\n",
        "\n",
        "le_driver.fit(all_drivers)\n",
        "le_team.fit(all_teams)\n",
        "le_track.fit(all_tracks)\n",
        "\n",
        "merged_data['Driver_Encoded'] = le_driver.transform(merged_data['Driver'])\n",
        "merged_data['Team_Encoded'] = le_team.transform(merged_data['Team'])\n",
        "merged_data['Track_Encoded'] = le_track.transform(merged_data['Track'])\n",
        "\n",
        "# Feature engineering\n",
        "driver_avg_finish = merged_data.groupby('Driver_Encoded')['Finish_Position'].mean().to_dict()\n",
        "team_avg_finish = merged_data.groupby('Team_Encoded')['Finish_Position'].mean().to_dict()\n",
        "merged_data['Driver_Avg_Finish'] = merged_data['Driver_Encoded'].map(driver_avg_finish)\n",
        "merged_data['Team_Avg_Finish'] = merged_data['Team_Encoded'].map(team_avg_finish)\n",
        "\n",
        "# Features and target\n",
        "features = ['Qualifying_Position', 'Starting Grid', 'Driver_Encoded', 'Team_Encoded',\n",
        "            'Track_Encoded', 'Driver_Avg_Finish', 'Team_Avg_Finish']\n",
        "target = 'Finish_Position'\n",
        "\n",
        "X = merged_data[features]\n",
        "y = merged_data[target]"
      ],
      "metadata": {
        "id": "-tvo-YUZq4jY"
      },
      "execution_count": 85,
      "outputs": []
    },
    {
      "cell_type": "code",
      "source": [
        "# Split and train with Random Forest\n",
        "X_train, X_test, y_train, y_test = train_test_split(X, y, test_size=0.2, random_state=42)\n",
        "rf_model = RandomForestRegressor(n_estimators=100, random_state=42)  # Use Random Forest\n",
        "rf_model.fit(X_train, y_train)\n",
        "\n",
        "# Evaluate\n",
        "y_pred = rf_model.predict(X_test)\n",
        "mae = mean_absolute_error(y_test, y_pred)\n",
        "mse = mean_squared_error(y_test, y_pred)\n",
        "print(f\"MAE: {mae:.2f} positions\")\n",
        "print(f\"MSE: {mse:.2f}\")"
      ],
      "metadata": {
        "colab": {
          "base_uri": "https://localhost:8080/"
        },
        "id": "GNdHrWqlrOPE",
        "outputId": "3ea0db35-a957-4e12-fc9c-c555f2e14a5a"
      },
      "execution_count": 86,
      "outputs": [
        {
          "output_type": "stream",
          "name": "stdout",
          "text": [
            "MAE: 2.45 positions\n",
            "MSE: 10.24\n"
          ]
        }
      ]
    },
    {
      "cell_type": "code",
      "source": [
        "# Predict Chinese GP 2025\n",
        "chinese_gp_data = china_2025_qualifying.copy()\n",
        "chinese_gp_data['Track_Encoded'] = le_track.transform(chinese_gp_data['Track'])\n",
        "chinese_gp_data['Driver_Encoded'] = le_driver.transform(chinese_gp_data['Driver'])\n",
        "chinese_gp_data['Team_Encoded'] = le_team.transform(chinese_gp_data['Team'])\n",
        "chinese_gp_data['Qualifying_Position'] = chinese_gp_data['Position']\n",
        "chinese_gp_data['Starting Grid'] = chinese_gp_data['Position']\n",
        "chinese_gp_data['Driver_Avg_Finish'] = chinese_gp_data['Driver_Encoded'].map(driver_avg_finish)\n",
        "chinese_gp_data['Team_Avg_Finish'] = chinese_gp_data['Team_Encoded'].map(team_avg_finish)\n",
        "\n",
        "# Handle missing average finish values for new drivers/teams\n",
        "chinese_gp_data['Driver_Avg_Finish'] = chinese_gp_data['Driver_Avg_Finish'].fillna(merged_data['Driver_Avg_Finish'].mean())\n",
        "chinese_gp_data['Team_Avg_Finish'] = chinese_gp_data['Team_Avg_Finish'].fillna(merged_data['Team_Avg_Finish'].mean())\n",
        "\n",
        "X_chinese = chinese_gp_data[features]\n",
        "chinese_predictions = rf_model.predict(X_chinese)"
      ],
      "metadata": {
        "id": "FEmWJfxiqf0U"
      },
      "execution_count": 87,
      "outputs": []
    },
    {
      "cell_type": "code",
      "source": [
        "# Results\n",
        "results = pd.DataFrame({\n",
        "    'Driver': chinese_gp_data['Driver'],\n",
        "    'Team': chinese_gp_data['Team'],\n",
        "    'Predicted_Finish': chinese_predictions\n",
        "})\n",
        "results = results.sort_values('Predicted_Finish').reset_index(drop=True)\n",
        "results['Predicted_Rank'] = results.index + 1\n",
        "\n",
        "print(\"\\nPredicted Rankings for Chinese GP 2025 (March 23, 2025):\")\n",
        "print(results[['Predicted_Rank', 'Driver', 'Predicted_Finish', 'Team']])"
      ],
      "metadata": {
        "colab": {
          "base_uri": "https://localhost:8080/"
        },
        "id": "_yGV-O4Hqf2b",
        "outputId": "70713a8e-6cbb-423c-f4bd-585e241dee54"
      },
      "execution_count": 88,
      "outputs": [
        {
          "output_type": "stream",
          "name": "stdout",
          "text": [
            "\n",
            "Predicted Rankings for Chinese GP 2025 (March 23, 2025):\n",
            "    Predicted_Rank             Driver  Predicted_Finish  \\\n",
            "0                1      Oscar Piastri              4.40   \n",
            "1                2       Lando Norris              4.88   \n",
            "2                3     George Russell              5.03   \n",
            "3                4     Max Verstappen              5.09   \n",
            "4                5     Lewis Hamilton              5.73   \n",
            "5                6    Charles Leclerc              6.41   \n",
            "6                7       Isack Hadjar              9.35   \n",
            "7                8     Kimi Antonelli              9.47   \n",
            "8                9       Carlos Sainz             10.04   \n",
            "9               10         Alex Albon             10.08   \n",
            "10              11       Yuki Tsunoda             10.19   \n",
            "11              12    Fernando Alonso             11.16   \n",
            "12              13    Nico Hulkenberg             11.61   \n",
            "13              14     Oliver Bearman             12.28   \n",
            "14              15       Esteban Ocon             12.40   \n",
            "15              16  Gabriel Bortoleto             13.45   \n",
            "16              17       Pierre Gasly             13.88   \n",
            "17              18       Lance Stroll             13.94   \n",
            "18              19        Jack Doohan             14.00   \n",
            "19              20        Liam Lawson             15.95   \n",
            "\n",
            "                                  Team  \n",
            "0                      McLaren F1 Team  \n",
            "1                      McLaren F1 Team  \n",
            "2        Mercedes AMG Petronas F1 Team  \n",
            "3               Oracle Red Bull Racing  \n",
            "4                  Scuderia Ferrari HP  \n",
            "5                  Scuderia Ferrari HP  \n",
            "6   Visa Cash App Racing Bulls F1 Team  \n",
            "7        Mercedes AMG Petronas F1 Team  \n",
            "8            Atlassian Williams Racing  \n",
            "9            Atlassian Williams Racing  \n",
            "10  Visa Cash App Racing Bulls F1 Team  \n",
            "11         Aston Martin Aramco F1 Team  \n",
            "12           Stake F1 Team Kick Sauber  \n",
            "13              MoneyGram Haas F1 Team  \n",
            "14              MoneyGram Haas F1 Team  \n",
            "15           Stake F1 Team Kick Sauber  \n",
            "16                  BWT Alpine F1 Team  \n",
            "17         Aston Martin Aramco F1 Team  \n",
            "18                  BWT Alpine F1 Team  \n",
            "19              Oracle Red Bull Racing  \n"
          ]
        }
      ]
    },
    {
      "cell_type": "code",
      "source": [
        "# Feature importance\n",
        "importances = rf_model.feature_importances_\n",
        "sns.barplot(x=importances, y=features)\n",
        "plt.title('Feature Importance (Random Forest)')\n",
        "plt.show()"
      ],
      "metadata": {
        "colab": {
          "base_uri": "https://localhost:8080/",
          "height": 452
        },
        "id": "Adk7TAMqqf4T",
        "outputId": "7f405ecb-78f2-4404-e78a-80dfd4f318ab"
      },
      "execution_count": 89,
      "outputs": [
        {
          "output_type": "display_data",
          "data": {
            "text/plain": [
              "<Figure size 640x480 with 1 Axes>"
            ],
            "image/png": "[encoded data removed]"
          },
          "metadata": {}
        }
      ]
    }
  ]
}